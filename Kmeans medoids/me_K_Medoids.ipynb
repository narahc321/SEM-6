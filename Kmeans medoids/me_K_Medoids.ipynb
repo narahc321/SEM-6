{
 "cells": [
  {
   "cell_type": "code",
   "execution_count": 15,
   "metadata": {},
   "outputs": [
    {
     "name": "stdout",
     "output_type": "stream",
     "text": [
      "(10, 2)\n"
     ]
    },
    {
     "data": {
      "application/vnd.jupyter.widget-view+json": {
       "model_id": "61252b233cc54c269b5852f0f6e4acc0",
       "version_major": 2,
       "version_minor": 0
      },
      "text/plain": [
       "HBox(children=(IntProgress(value=0, max=5), HTML(value='')))"
      ]
     },
     "metadata": {},
     "output_type": "display_data"
    },
    {
     "name": "stdout",
     "output_type": "stream",
     "text": [
      "0 initial :  {0: array([2, 6], dtype=int64), 1: array([3, 4], dtype=int64), 2: array([3, 8], dtype=int64)}\n",
      "classification {0: [array([2, 6], dtype=int64)], 1: [array([3, 4], dtype=int64), array([6, 2], dtype=int64), array([7, 4], dtype=int64), array([7, 3], dtype=int64), array([7, 4], dtype=int64), array([8, 5], dtype=int64), array([7, 6], dtype=int64)], 2: [array([3, 8], dtype=int64), array([4, 7], dtype=int64)]}\n",
      "\n",
      "1 initial :  {0: array([2, 6], dtype=int64), 1: array([7, 4], dtype=int64), 2: array([3, 8], dtype=int64)}\n",
      "classification {0: [array([2, 6], dtype=int64), array([3, 4], dtype=int64)], 1: [array([6, 2], dtype=int64), array([7, 4], dtype=int64), array([7, 3], dtype=int64), array([7, 4], dtype=int64), array([8, 5], dtype=int64), array([7, 6], dtype=int64)], 2: [array([3, 8], dtype=int64), array([4, 7], dtype=int64)]}\n",
      "\n",
      "2 initial :  {0: array([2, 6], dtype=int64), 1: array([7, 4], dtype=int64), 2: array([3, 8], dtype=int64)}\n",
      "classification {0: [array([2, 6], dtype=int64), array([3, 4], dtype=int64)], 1: [array([6, 2], dtype=int64), array([7, 4], dtype=int64), array([7, 3], dtype=int64), array([7, 4], dtype=int64), array([8, 5], dtype=int64), array([7, 6], dtype=int64)], 2: [array([3, 8], dtype=int64), array([4, 7], dtype=int64)]}\n",
      "\n",
      "3 initial :  {0: array([2, 6], dtype=int64), 1: array([7, 4], dtype=int64), 2: array([3, 8], dtype=int64)}\n",
      "classification {0: [array([2, 6], dtype=int64), array([3, 4], dtype=int64)], 1: [array([6, 2], dtype=int64), array([7, 4], dtype=int64), array([7, 3], dtype=int64), array([7, 4], dtype=int64), array([8, 5], dtype=int64), array([7, 6], dtype=int64)], 2: [array([3, 8], dtype=int64), array([4, 7], dtype=int64)]}\n",
      "\n",
      "4 initial :  {0: array([2, 6], dtype=int64), 1: array([7, 4], dtype=int64), 2: array([3, 8], dtype=int64)}\n",
      "classification {0: [array([2, 6], dtype=int64), array([3, 4], dtype=int64)], 1: [array([6, 2], dtype=int64), array([7, 4], dtype=int64), array([7, 3], dtype=int64), array([7, 4], dtype=int64), array([8, 5], dtype=int64), array([7, 6], dtype=int64)], 2: [array([3, 8], dtype=int64), array([4, 7], dtype=int64)]}\n",
      "\n",
      "\n",
      "{0: array([2, 6], dtype=int64), 1: array([7, 4], dtype=int64), 2: array([3, 8], dtype=int64)}\n"
     ]
    },
    {
     "data": {
      "image/png": "[encoded data removed]",
      "text/plain": [
       "<Figure size 432x288 with 1 Axes>"
      ]
     },
     "metadata": {
      "needs_background": "light"
     },
     "output_type": "display_data"
    }
   ],
   "source": [
    "import numpy as np\n",
    "import pandas as pd\n",
    "import matplotlib.pyplot as plt\n",
    "from sklearn.utils import shuffle\n",
    "from tqdm import tqdm_notebook as tqdm\n",
    "\n",
    "\n",
    "\n",
    "# data = pd.read_excel(\"Absenteeism_at_work.xls\")\n",
    "\n",
    "# for col in data.columns.values:\n",
    "#     if col !=\"Reason for absence\" and col != \"Height\":\n",
    "#         print(col)\n",
    "#         data = data.drop(col,axis = 1)\n",
    "# std = data.std()\n",
    "# mean = data.mean()\n",
    "# print(std ,\"\\n\", mean)\n",
    "\n",
    "# data = (data - mean)/std\n",
    "\n",
    "\n",
    "data = pd.read_csv(\"k_means.csv\")\n",
    "# data = shuffle(data)\n",
    "data.head()\n",
    "\n",
    "class K_Medoids:\n",
    "    def __init__(self, k=3, tol=0.000000000001, max_iter=5):\n",
    "        self.k = k\n",
    "        self.tol = tol\n",
    "        self.max_iter = max_iter\n",
    "    def get_medoid(self, data):\n",
    "        data = np.array(data)\n",
    "        distances = np.zeros([data.shape[0],data.shape[0]])\n",
    "        for i in range(data.shape[0]):\n",
    "            for j in range(i):\n",
    "                distances[i][j] = np.linalg.norm(data[i] - data[j])\n",
    "                distances[j][i] = distances[i][j]\n",
    "        total_distances = np.sum(distances, axis=0)\n",
    "        index = total_distances.argmin()\n",
    "#         print(\"lol\",distances)\n",
    "#         print(data)\n",
    "        return data[index]\n",
    "\n",
    "    def fit(self,data):\n",
    "        self.medoids = {}\n",
    "        for i in range(self.k):\n",
    "            self.medoids[i] = data[i]\n",
    "        for i in tqdm(range(self.max_iter)):\n",
    "            print(i,\"initial : \", self.medoids)\n",
    "            self.classifications = {}\n",
    "            for i in range(self.k):\n",
    "                self.classifications[i] = []\n",
    "            for featureset in data:\n",
    "                distances = [np.linalg.norm(featureset-self.medoids[medoid]) for medoid in self.medoids]\n",
    "                classification = distances.index(min(distances))\n",
    "                self.classifications[classification].append(featureset)\n",
    "            print(\"classification\",self.classifications)\n",
    "            print()\n",
    "            prev_medoids = dict(self.medoids)\n",
    "            for classification in self.classifications:\n",
    "#                 self.medoids[classification] = np.average(self.classifications[classification],axis=0)\n",
    "                self.medoids[classification] = self.get_medoid(self.classifications[classification])\n",
    "#             optimized = True\n",
    "#             for c in self.medoids:\n",
    "#                 original_medoid = prev_medoids[c]\n",
    "#                 current_medoid = self.medoids[c]\n",
    "#                 if np.sum((current_centroid-original_centroid)/original_centroid*100.0) > self.tol:\n",
    "#                     print(np.sum((current_centroid-original_centroid)/original_centroid*100.0))\n",
    "#                     optimized = False\n",
    "# #             if optimized:\n",
    "#                 break\n",
    "    def predict(self,data):\n",
    "        distances = [np.linalg.norm(data-self.medoids[medoid]) for medoid in self.medoids]\n",
    "        classification = distances.index(min(distances))\n",
    "        return classification\n",
    "\n",
    "X = np.array(data)\n",
    "print(X.shape)\n",
    "clf = K_Medoids()\n",
    "clf.fit(X)\n",
    "print(clf.medoids)\n",
    "\n",
    "colors = ['r','g','b','c','k','o','y']    \n",
    "for medoid in clf.medoids:\n",
    "    plt.scatter(clf.medoids[medoid][0], clf.medoids[medoid][1],\n",
    "                marker=\"o\", color=\"k\", s=150, linewidths=5)\n",
    "for classification in clf.classifications:\n",
    "    color = colors[classification]\n",
    "    for featureset in clf.classifications[classification]:\n",
    "        plt.scatter(featureset[0], featureset[1], marker=\"x\", color=color, s=150, linewidths=5)\n",
    "plt.show()"
   ]
  }
 ],
 "metadata": {
  "kernelspec": {
   "display_name": "Python 3",
   "language": "python",
   "name": "python3"
  },
  "language_info": {
   "codemirror_mode": {
    "name": "ipython",
    "version": 3
   },
   "file_extension": ".py",
   "mimetype": "text/x-python",
   "name": "python",
   "nbconvert_exporter": "python",
   "pygments_lexer": "ipython3",
   "version": "3.7.1"
  }
 },
 "nbformat": 4,
 "nbformat_minor": 2
}
