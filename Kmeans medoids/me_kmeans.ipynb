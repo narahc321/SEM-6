{
 "cells": [
  {
   "cell_type": "code",
   "execution_count": 1,
   "metadata": {},
   "outputs": [
    {
     "name": "stdout",
     "output_type": "stream",
     "text": [
      "ID\n",
      "Reason for absence\n",
      "Month of absence\n",
      "Day of the week\n",
      "Seasons\n",
      "Service time\n",
      "Age\n",
      "Work load Average/day \n",
      "Hit target\n",
      "Disciplinary failure\n",
      "Education\n",
      "Son\n",
      "Social drinker\n",
      "Social smoker\n",
      "Pet\n",
      "Weight\n",
      "Height\n",
      "Body mass index\n",
      "Absenteeism time in hours\n",
      "Transportation expense             66.952223\n",
      "Distance from Residence to Work    14.836788\n",
      "dtype: float64 \n",
      " Transportation expense             221.329730\n",
      "Distance from Residence to Work     29.631081\n",
      "dtype: float64\n"
     ]
    },
    {
     "data": {
      "text/html": [
       "<div>\n",
       "<style scoped>\n",
       "    .dataframe tbody tr th:only-of-type {\n",
       "        vertical-align: middle;\n",
       "    }\n",
       "\n",
       "    .dataframe tbody tr th {\n",
       "        vertical-align: top;\n",
       "    }\n",
       "\n",
       "    .dataframe thead th {\n",
       "        text-align: right;\n",
       "    }\n",
       "</style>\n",
       "<table border=\"1\" class=\"dataframe\">\n",
       "  <thead>\n",
       "    <tr style=\"text-align: right;\">\n",
       "      <th></th>\n",
       "      <th>Transportation expense</th>\n",
       "      <th>Distance from Residence to Work</th>\n",
       "    </tr>\n",
       "  </thead>\n",
       "  <tbody>\n",
       "    <tr>\n",
       "      <th>182</th>\n",
       "      <td>0.398348</td>\n",
       "      <td>-0.312135</td>\n",
       "    </tr>\n",
       "    <tr>\n",
       "      <th>427</th>\n",
       "      <td>2.205607</td>\n",
       "      <td>-0.851335</td>\n",
       "    </tr>\n",
       "    <tr>\n",
       "      <th>486</th>\n",
       "      <td>1.040597</td>\n",
       "      <td>0.092265</td>\n",
       "    </tr>\n",
       "    <tr>\n",
       "      <th>270</th>\n",
       "      <td>-0.632238</td>\n",
       "      <td>1.440266</td>\n",
       "    </tr>\n",
       "    <tr>\n",
       "      <th>629</th>\n",
       "      <td>2.086118</td>\n",
       "      <td>1.507666</td>\n",
       "    </tr>\n",
       "  </tbody>\n",
       "</table>\n",
       "</div>"
      ],
      "text/plain": [
       "     Transportation expense  Distance from Residence to Work\n",
       "182                0.398348                        -0.312135\n",
       "427                2.205607                        -0.851335\n",
       "486                1.040597                         0.092265\n",
       "270               -0.632238                         1.440266\n",
       "629                2.086118                         1.507666"
      ]
     },
     "execution_count": 1,
     "metadata": {},
     "output_type": "execute_result"
    }
   ],
   "source": []
  },
  {
   "cell_type": "code",
   "execution_count": 15,
   "metadata": {},
   "outputs": [
    {
     "name": "stdout",
     "output_type": "stream",
     "text": [
      "(10, 2)\n"
     ]
    },
    {
     "data": {
      "application/vnd.jupyter.widget-view+json": {
       "model_id": "14a92ca68e924e948123ee2c5a54ae07",
       "version_major": 2,
       "version_minor": 0
      },
      "text/plain": [
       "HBox(children=(IntProgress(value=0, max=5), HTML(value='')))"
      ]
     },
     "metadata": {},
     "output_type": "display_data"
    },
    {
     "name": "stdout",
     "output_type": "stream",
     "text": [
      "2 centroids : {0: array([2, 6], dtype=int64), 1: array([3, 4], dtype=int64), 2: array([3, 8], dtype=int64)}\n",
      "{0: [array([2, 6], dtype=int64)], 1: [array([3, 4], dtype=int64), array([6, 2], dtype=int64), array([7, 4], dtype=int64), array([7, 3], dtype=int64), array([7, 4], dtype=int64), array([8, 5], dtype=int64), array([7, 6], dtype=int64)], 2: [array([3, 8], dtype=int64), array([4, 7], dtype=int64)]}\n",
      "\n",
      "2 centroids : {0: array([2., 6.]), 1: array([6.42857143, 4.        ]), 2: array([3.5, 7.5])}\n",
      "{0: [array([2, 6], dtype=int64), array([3, 4], dtype=int64)], 1: [array([6, 2], dtype=int64), array([7, 4], dtype=int64), array([7, 3], dtype=int64), array([7, 4], dtype=int64), array([8, 5], dtype=int64), array([7, 6], dtype=int64)], 2: [array([3, 8], dtype=int64), array([4, 7], dtype=int64)]}\n",
      "\n",
      "2 centroids : {0: array([2.5, 5. ]), 1: array([7., 4.]), 2: array([3.5, 7.5])}\n",
      "{0: [array([2, 6], dtype=int64), array([3, 4], dtype=int64)], 1: [array([6, 2], dtype=int64), array([7, 4], dtype=int64), array([7, 3], dtype=int64), array([7, 4], dtype=int64), array([8, 5], dtype=int64), array([7, 6], dtype=int64)], 2: [array([3, 8], dtype=int64), array([4, 7], dtype=int64)]}\n",
      "\n",
      "2 centroids : {0: array([2.5, 5. ]), 1: array([7., 4.]), 2: array([3.5, 7.5])}\n",
      "{0: [array([2, 6], dtype=int64), array([3, 4], dtype=int64)], 1: [array([6, 2], dtype=int64), array([7, 4], dtype=int64), array([7, 3], dtype=int64), array([7, 4], dtype=int64), array([8, 5], dtype=int64), array([7, 6], dtype=int64)], 2: [array([3, 8], dtype=int64), array([4, 7], dtype=int64)]}\n",
      "\n",
      "2 centroids : {0: array([2.5, 5. ]), 1: array([7., 4.]), 2: array([3.5, 7.5])}\n",
      "{0: [array([2, 6], dtype=int64), array([3, 4], dtype=int64)], 1: [array([6, 2], dtype=int64), array([7, 4], dtype=int64), array([7, 3], dtype=int64), array([7, 4], dtype=int64), array([8, 5], dtype=int64), array([7, 6], dtype=int64)], 2: [array([3, 8], dtype=int64), array([4, 7], dtype=int64)]}\n",
      "\n",
      "\n",
      "{0: array([2.5, 5. ]), 1: array([7., 4.]), 2: array([3.5, 7.5])}\n"
     ]
    },
    {
     "data": {
      "image/png": "[encoded data removed]",
      "text/plain": [
       "<Figure size 432x288 with 1 Axes>"
      ]
     },
     "metadata": {
      "needs_background": "light"
     },
     "output_type": "display_data"
    }
   ],
   "source": [
    "import numpy as np\n",
    "import pandas as pd\n",
    "import matplotlib.pyplot as plt\n",
    "from sklearn.utils import shuffle\n",
    "from tqdm import tqdm_notebook as tqdm\n",
    "\n",
    "\n",
    "data = pd.read_excel(\"Absenteeism_at_work.xls\")\n",
    "\n",
    "for col in data.columns.values:\n",
    "    if col !=\"Reason for absence\" and col != \"Height\":\n",
    "        print(col)\n",
    "        data = data.drop(col,axis = 1)\n",
    "std = data.std()\n",
    "mean = data.mean()\n",
    "print(std ,\"\\n\", mean)\n",
    "\n",
    "data = (data - mean)/std\n",
    "data = shuffle(data)\n",
    "\n",
    "# data = pd.read_csv(\"k_means.csv\")\n",
    "# data.head()\n",
    "\n",
    "\n",
    "class K_Means:\n",
    "    def __init__(self, k=3, tol=0.000000000001, max_iter=5):\n",
    "        self.k = k\n",
    "        self.tol = tol\n",
    "        self.max_iter = max_iter\n",
    "\n",
    "    def fit(self,data):\n",
    "        self.centroids = {}\n",
    "        for i in range(self.k):\n",
    "            self.centroids[i] = data[i]\n",
    "        for i in tqdm(range(self.max_iter)):\n",
    "            self.classifications = {}\n",
    "            for i in range(self.k):\n",
    "                self.classifications[i] = []\n",
    "            for featureset in data:\n",
    "                distances = [np.linalg.norm(featureset-self.centroids[centroid]) for centroid in self.centroids]\n",
    "                classification = distances.index(min(distances))\n",
    "                self.classifications[classification].append(featureset)\n",
    "            prev_centroids = dict(self.centroids)\n",
    "            print(i,\"centroids :\",self.centroids)\n",
    "            print(self.classifications)\n",
    "            print()\n",
    "            for classification in self.classifications:\n",
    "                self.centroids[classification] = np.average(self.classifications[classification],axis=0)\n",
    "#                 print(np.sum(self.classifications[classification],axis=0))\n",
    "#             optimized = True\n",
    "#             for c in self.centroids:\n",
    "#                 original_centroid = prev_centroids[c]\n",
    "#                 current_centroid = self.centroids[c]\n",
    "#                 if np.sum((current_centroid-original_centroid)/original_centroid*100.0) > self.tol:\n",
    "#                     print(np.sum((current_centroid-original_centroid)/original_centroid*100.0))\n",
    "#                     optimized = False\n",
    "#             if optimized:\n",
    "#                 break\n",
    "    def predict(self,data):\n",
    "        distances = [np.linalg.norm(data-self.centroids[centroid]) for centroid in self.centroids]\n",
    "        classification = distances.index(min(distances))\n",
    "        return classification\n",
    "\n",
    "X = np.array(data)\n",
    "print(X.shape)\n",
    "clf = K_Means()\n",
    "clf.fit(X)\n",
    "print(clf.centroids)\n",
    "\n",
    "colors = ['r','g','b','c','k','o','y']    \n",
    "for centroid in clf.centroids:\n",
    "    plt.scatter(clf.centroids[centroid][0], clf.centroids[centroid][1],\n",
    "                marker=\"o\", color=\"k\", s=150, linewidths=5)\n",
    "for classification in clf.classifications:\n",
    "    color = colors[classification]\n",
    "    for featureset in clf.classifications[classification]:\n",
    "        plt.scatter(featureset[0], featureset[1], marker=\"x\", color=color, s=150, linewidths=5)\n",
    "plt.show()"
   ]
  },
  {
   "cell_type": "code",
   "execution_count": null,
   "metadata": {},
   "outputs": [],
   "source": []
  }
 ],
 "metadata": {
  "kernelspec": {
   "display_name": "Python 3",
   "language": "python",
   "name": "python3"
  },
  "language_info": {
   "codemirror_mode": {
    "name": "ipython",
    "version": 3
   },
   "file_extension": ".py",
   "mimetype": "text/x-python",
   "name": "python",
   "nbconvert_exporter": "python",
   "pygments_lexer": "ipython3",
   "version": "3.7.1"
  }
 },
 "nbformat": 4,
 "nbformat_minor": 2
}
