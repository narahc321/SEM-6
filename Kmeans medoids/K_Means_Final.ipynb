{
 "cells": [
  {
   "cell_type": "code",
   "execution_count": 1,
   "metadata": {},
   "outputs": [],
   "source": [
    "import numpy as np\n",
    "import pandas as pd\n",
    "from sklearn.cluster import KMeans\n",
    "from sklearn.model_selection import train_test_split\n",
    "import random as rd"
   ]
  },
  {
   "cell_type": "code",
   "execution_count": 2,
   "metadata": {},
   "outputs": [
    {
     "name": "stdout",
     "output_type": "stream",
     "text": [
      "(350, 3)\n"
     ]
    }
   ],
   "source": [
    "data = pd.read_excel(\"input.xlsx\")\n",
    "# print(data.head())\n",
    "data = np.asarray(data)\n",
    "print(data.shape)\n",
    "# data = rd.shuffle(data)"
   ]
  },
  {
   "cell_type": "code",
   "execution_count": 3,
   "metadata": {},
   "outputs": [
    {
     "name": "stdout",
     "output_type": "stream",
     "text": [
      "Answer\n",
      "[[7.34938239 2.63479436]\n",
      " [7.28009363 2.65608259]]\n"
     ]
    }
   ],
   "source": [
    "X = data[:, 0:2]\n",
    "y = data[:, 2:3]\n",
    "\n",
    "spl = 0.8\n",
    "# X, Xtest = X[:int(len(X)*spl),:], X[int(len(X)*spl):,:]\n",
    "# y, Ytest = y[:int(len(y)*spl)], y[int(len(y)*spl):]\n",
    "\n",
    "\n",
    "m = X.shape[0] #number of training examples\n",
    "n = X.shape[1] #number of features. Here n=2\n",
    "\n",
    "n_iter=100\n",
    "K = 2 # number of clusters\n",
    "\n",
    "# print(m,n)\n",
    "\n",
    "Centroids = np.array([]).reshape(n,0) \n",
    "\n",
    "for i in range(K):\n",
    "    rand=rd.randint(0,m-1)\n",
    "    Centroids=np.c_[Centroids,X[rand]]\n",
    "\n",
    "    \n",
    "Output={}\n",
    "\n",
    "EuclidianDistance = np.array([]).reshape(m,0)\n",
    "for k in range(K):\n",
    "    tempDist = np.sum((X-Centroids[:,k])**2,axis=1)\n",
    "    EuclidianDistance = np.c_[EuclidianDistance,tempDist]\n",
    "\n",
    "C = np.argmin(EuclidianDistance,axis=1)+1\n",
    "\n",
    "\n",
    "Y = {}\n",
    "for k in range(K):\n",
    "    Y[k+1] = np.array([]).reshape(n,0)\n",
    "\n",
    "for i in range(m):\n",
    "    Y[C[i]] = np.c_[Y[C[i]],X[i]]\n",
    "     \n",
    "for k in range(K):\n",
    "    Y[k+1] = Y[k+1].T\n",
    "    \n",
    "for k in range(K):\n",
    "     Centroids[:,k]=np.mean(Y[k+1],axis=0)\n",
    "\n",
    "\n",
    "for i in range(n_iter):\n",
    "    old_Centroids = Centroids\n",
    "    sam = True\n",
    "    EuclidianDistance = np.array([]).reshape(m,0)\n",
    "    for k in range(K):\n",
    "        tempDist=np.sum((X-Centroids[:,k])**2,axis=1)\n",
    "        EuclidianDistance = np.c_[EuclidianDistance,tempDist]\n",
    "    C=np.argmin(EuclidianDistance,axis=1) + 1\n",
    "    Y = {}\n",
    "    for k in range(K):\n",
    "        Y[k+1] = np.array([]).reshape(n,0)\n",
    "    for i in range(m):\n",
    "        Y[C[i]] = np.c_[Y[C[i]],X[i]]\n",
    "     \n",
    "    for k in range(K):\n",
    "        Y[k+1] = Y[k+1].T\n",
    "    \n",
    "    for k in range(K):\n",
    "        Centroids[:,k] = np.mean(Y[k+1],axis=0)\n",
    "    for i in range(old_Centroids.shape[0]):\n",
    "        for j in range(old_Centroids.shape[1]):\n",
    "            if old_Centroids[i][j] != Centroids[i][j]:\n",
    "                sam = False\n",
    "                break\n",
    "            if not sam:\n",
    "                break\n",
    "    if sam:\n",
    "        print(\"Answer\")\n",
    "        break\n",
    "    \n",
    "    \n",
    "print(Centroids)"
   ]
  },
  {
   "cell_type": "code",
   "execution_count": 4,
   "metadata": {},
   "outputs": [
    {
     "name": "stdout",
     "output_type": "stream",
     "text": [
      "595.2914607006164\n"
     ]
    }
   ],
   "source": [
    "mean_square_error = 0\n",
    "for i in range(len(C)):\n",
    "    mean_square_error=mean_square_error+np.linalg.norm(X[i]-Centroids[:,C[i]-1])\n",
    "print(mean_square_error)"
   ]
  },
  {
   "cell_type": "code",
   "execution_count": 5,
   "metadata": {},
   "outputs": [
    {
     "name": "stdout",
     "output_type": "stream",
     "text": [
      "145 5 0 200\n"
     ]
    }
   ],
   "source": [
    "a = 0#-11\n",
    "b = 0#-12\n",
    "c = 0#11\n",
    "d = 0#12\n",
    "\n",
    "for i in range(len(y)):\n",
    "    if y[i]==-1 and C[i] ==1:\n",
    "        a +=1\n",
    "    elif y[i]==-1 and C[i] ==2:\n",
    "        b +=1\n",
    "    elif y[i]==1 and C[i] ==1:\n",
    "        c +=1\n",
    "    elif y[i]==1 and C[i] ==2:\n",
    "        d +=1\n",
    "print(a,b,c,d)"
   ]
  },
  {
   "cell_type": "code",
   "execution_count": 6,
   "metadata": {},
   "outputs": [
    {
     "name": "stdout",
     "output_type": "stream",
     "text": [
      "1.4285714285714286\n"
     ]
    }
   ],
   "source": [
    "print((b+c)/(a+b+c+d)*100)"
   ]
  },
  {
   "cell_type": "code",
   "execution_count": 10,
   "metadata": {},
   "outputs": [
    {
     "name": "stdout",
     "output_type": "stream",
     "text": [
      "[7.34938239 7.28009363] 0.839797053170999\n",
      "[2.63479436 2.65608259] 7.34884872593088\n"
     ]
    }
   ],
   "source": [
    "x = X[10]\n",
    "for i in range(len(Centroids)):\n",
    "    print(Centroids[:,i], np.linalg.norm(x-Centroids[:,i]))"
   ]
  },
  {
   "cell_type": "code",
   "execution_count": 11,
   "metadata": {},
   "outputs": [
    {
     "data": {
      "text/plain": [
       "<Figure size 640x480 with 1 Axes>"
      ]
     },
     "metadata": {},
     "output_type": "display_data"
    }
   ],
   "source": [
    "import matplotlib.pyplot as plt\n",
    "color=['red','blue','green','cyan','magenta']\n",
    "labels=['cluster1','cluster2','cluster3','cluster4','cluster5']\n",
    "for k in range(K):\n",
    "    plt.scatter(Y[k+1][:,0],Y[k+1][:,1],c=color[k],label=labels[k])\n",
    "plt.scatter(Centroids[0,:],Centroids[1,:],s=300,c='yellow',label='Centroids')\n",
    "plt.xlabel('Income')\n",
    "plt.ylabel('Number of transactions')\n",
    "plt.legend()\n",
    "plt.show()"
   ]
  }
 ],
 "metadata": {
  "kernelspec": {
   "display_name": "Python 3",
   "language": "python",
   "name": "python3"
  },
  "language_info": {
   "codemirror_mode": {
    "name": "ipython",
    "version": 3
   },
   "file_extension": ".py",
   "mimetype": "text/x-python",
   "name": "python",
   "nbconvert_exporter": "python",
   "pygments_lexer": "ipython3",
   "version": "3.6.5"
  }
 },
 "nbformat": 4,
 "nbformat_minor": 2
}
