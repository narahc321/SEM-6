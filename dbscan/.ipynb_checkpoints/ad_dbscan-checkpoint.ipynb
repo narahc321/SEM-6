{
 "cells": [
  {
   "cell_type": "code",
   "execution_count": 1,
   "metadata": {},
   "outputs": [
    {
     "ename": "ModuleNotFoundError",
     "evalue": "No module named 'tqdm'",
     "output_type": "error",
     "traceback": [
      "\u001b[0;31m---------------------------------------------------------------------------\u001b[0m",
      "\u001b[0;31mModuleNotFoundError\u001b[0m                       Traceback (most recent call last)",
      "\u001b[0;32m<ipython-input-1-a790a0ddb661>\u001b[0m in \u001b[0;36m<module>\u001b[0;34m\u001b[0m\n\u001b[0;32m----> 1\u001b[0;31m \u001b[0;32mfrom\u001b[0m \u001b[0mtqdm\u001b[0m \u001b[0;32mimport\u001b[0m \u001b[0mtqdm_notebook\u001b[0m \u001b[0;32mas\u001b[0m \u001b[0mtqdm\u001b[0m\u001b[0;34m\u001b[0m\u001b[0;34m\u001b[0m\u001b[0m\n\u001b[0m\u001b[1;32m      2\u001b[0m \u001b[0;32mimport\u001b[0m \u001b[0mmatplotlib\u001b[0m\u001b[0;34m.\u001b[0m\u001b[0mpyplot\u001b[0m \u001b[0;32mas\u001b[0m \u001b[0mplt\u001b[0m\u001b[0;34m\u001b[0m\u001b[0;34m\u001b[0m\u001b[0m\n\u001b[1;32m      3\u001b[0m \u001b[0;32mimport\u001b[0m \u001b[0mpandas\u001b[0m \u001b[0;32mas\u001b[0m \u001b[0mpd\u001b[0m\u001b[0;34m\u001b[0m\u001b[0;34m\u001b[0m\u001b[0m\n\u001b[1;32m      4\u001b[0m \u001b[0;32mimport\u001b[0m \u001b[0mnumpy\u001b[0m \u001b[0;32mas\u001b[0m \u001b[0mnp\u001b[0m\u001b[0;34m\u001b[0m\u001b[0;34m\u001b[0m\u001b[0m\n\u001b[1;32m      5\u001b[0m \u001b[0mget_ipython\u001b[0m\u001b[0;34m(\u001b[0m\u001b[0;34m)\u001b[0m\u001b[0;34m.\u001b[0m\u001b[0mrun_line_magic\u001b[0m\u001b[0;34m(\u001b[0m\u001b[0;34m'matplotlib'\u001b[0m\u001b[0;34m,\u001b[0m \u001b[0;34m'inline'\u001b[0m\u001b[0;34m)\u001b[0m\u001b[0;34m\u001b[0m\u001b[0;34m\u001b[0m\u001b[0m\n",
      "\u001b[0;31mModuleNotFoundError\u001b[0m: No module named 'tqdm'"
     ]
    }
   ],
   "source": [
    "from tqdm import tqdm_notebook as tqdm\n",
    "import matplotlib.pyplot as plt\n",
    "import pandas as pd\n",
    "import numpy as np\n",
    "%matplotlib inline"
   ]
  },
  {
   "cell_type": "code",
   "execution_count": null,
   "metadata": {},
   "outputs": [],
   "source": [
    "class Point:\n",
    "    def __init__(self, x, y, cluster):\n",
    "        self.x = np.array([x, y])\n",
    "        self.cluster = cluster\n",
    "        self.label = None"
   ]
  },
  {
   "cell_type": "code",
   "execution_count": null,
   "metadata": {},
   "outputs": [],
   "source": [
    "def range_query(db, dist_func, q, eps):\n",
    "    N = set([])\n",
    "    for p in db:\n",
    "        if dist_func(q, p) <= eps:\n",
    "            N.add(p)\n",
    "    return N    "
   ]
  },
  {
   "cell_type": "code",
   "execution_count": null,
   "metadata": {},
   "outputs": [],
   "source": [
    "def db_scan(db, dist_func, eps, min_pts):\n",
    "    C = 0\n",
    "    for p in tqdm(db):\n",
    "        if p.label != None: continue\n",
    "        N = range_query(db, dist_func, p, eps)\n",
    "        if len(N) < min_pts:\n",
    "            p.label = 'noise'\n",
    "            continue\n",
    "        C += 1\n",
    "        p.label = C\n",
    "        \n",
    "        S = N.difference(set([p]))\n",
    "        while(len(S) > 0):\n",
    "            q = S.pop()\n",
    "            if q.label == 'noise': q.label = C\n",
    "            if q.label != None: continue\n",
    "            q.label = C\n",
    "            N = range_query(db, dist_func, q, eps)\n",
    "            if len(N) >= min_pts:\n",
    "                S = S.union(N)            "
   ]
  },
  {
   "cell_type": "code",
   "execution_count": null,
   "metadata": {},
   "outputs": [],
   "source": [
    "def euclidean(p, q):\n",
    "    return np.linalg.norm(p.x - q.x)"
   ]
  },
  {
   "cell_type": "code",
   "execution_count": null,
   "metadata": {},
   "outputs": [],
   "source": [
    "def plot_clusters(db):\n",
    "    colors = ['r', 'g', 'b', 'y', 'c', 'm', 'k', 'w']\n",
    "    clusters = {}\n",
    "    for p in db:\n",
    "        clusters[p.label] = clusters.get(p.label, []) + [p]\n",
    "    print(list(clusters.keys()))\n",
    "    print(colors[:len(clusters)])\n",
    "    for i, k in enumerate(clusters):\n",
    "        xs = [p.x[0] for p in clusters[k]]\n",
    "        ys = [p.x[1] for p in clusters[k]]\n",
    "        plt.scatter(xs, ys, color=colors[i%len(colors)])\n",
    "    plt.show()"
   ]
  },
  {
   "cell_type": "code",
   "execution_count": null,
   "metadata": {},
   "outputs": [],
   "source": [
    "df = pd.read_excel('data1.xlsx')\n",
    "db = np.array([Point(p[0], p[1], None) for p in df.values])\n",
    "eps = 1\n",
    "min_pts = 5\n",
    "db_scan(db, euclidean, eps, min_pts)\n",
    "plot_clusters(db)"
   ]
  },
  {
   "cell_type": "code",
   "execution_count": null,
   "metadata": {},
   "outputs": [],
   "source": [
    "df = pd.read_excel('data2.xlsx')\n",
    "db = np.array([Point(p[0], p[1], None) for p in df.values])\n",
    "eps = 1\n",
    "min_pts = 5\n",
    "db_scan(db, euclidean, eps, min_pts)\n",
    "plot_clusters(db)"
   ]
  }
 ],
 "metadata": {
  "kernelspec": {
   "display_name": "Python 3",
   "language": "python",
   "name": "python3"
  },
  "language_info": {
   "codemirror_mode": {
    "name": "ipython",
    "version": 3
   },
   "file_extension": ".py",
   "mimetype": "text/x-python",
   "name": "python",
   "nbconvert_exporter": "python",
   "pygments_lexer": "ipython3",
   "version": "3.6.7"
  }
 },
 "nbformat": 4,
 "nbformat_minor": 2
}
