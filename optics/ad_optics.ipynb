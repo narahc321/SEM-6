{
 "cells": [
  {
   "cell_type": "code",
   "execution_count": 1,
   "metadata": {},
   "outputs": [],
   "source": [
    "from queue import PriorityQueue as queue\n",
    "from tqdm import tqdm_notebook as tqdm\n",
    "import matplotlib.pyplot as plt\n",
    "import pandas as pd\n",
    "import numpy as np\n",
    "%matplotlib inline"
   ]
  },
  {
   "cell_type": "code",
   "execution_count": 2,
   "metadata": {},
   "outputs": [],
   "source": [
    "class Point:\n",
    "    def __init__(self, x, y, cluster):\n",
    "        self.x = np.array([x, y])\n",
    "        self.cluster = cluster\n",
    "        self.label = None\n",
    "        self.distance = None\n",
    "        self.visited = False\n",
    "    def __lt__(self, other):\n",
    "        return self.distance < other.distance"
   ]
  },
  {
   "cell_type": "code",
   "execution_count": 3,
   "metadata": {},
   "outputs": [],
   "source": [
    "def euclidean(p, q):\n",
    "    return np.linalg.norm(p.x - q.x)"
   ]
  },
  {
   "cell_type": "code",
   "execution_count": 4,
   "metadata": {},
   "outputs": [],
   "source": [
    "def get_neighbours(db, q, eps, dist_func=euclidean):\n",
    "    N = set([])\n",
    "    for p in db:\n",
    "        if dist_func(q, p) <= eps:\n",
    "            N.add(p)\n",
    "    return N"
   ]
  },
  {
   "cell_type": "code",
   "execution_count": 5,
   "metadata": {},
   "outputs": [],
   "source": [
    "def core_distance(N, p, eps, min_pts, tol=1e-5, dist_func=euclidean):\n",
    "    if len(N) < min_pts: return\n",
    "    ordered = sorted(N, key=lambda x: dist_func(x, p))\n",
    "    return dist_func(ordered[min_pts-1], p)"
   ]
  },
  {
   "cell_type": "code",
   "execution_count": 6,
   "metadata": {},
   "outputs": [],
   "source": [
    "def update(N, p, S, eps, min_pts, dist_func=euclidean):\n",
    "    core_dist = core_distance(N, p, eps, min_pts)\n",
    "    for o in N:\n",
    "        if not o.visited:\n",
    "            new_reach_dist = max(core_dist, dist_func(p, o))\n",
    "            if o.distance == None:\n",
    "                o.distance = new_reach_dist\n",
    "                S.put(o)\n",
    "            else:\n",
    "                if new_reach_dist < o.distance:\n",
    "                    o.distance = new_reach_dist\n",
    "                    S.put(o)"
   ]
  },
  {
   "cell_type": "code",
   "execution_count": 7,
   "metadata": {},
   "outputs": [],
   "source": [
    "def optics(db, eps, min_pts):\n",
    "    ordered_list = []\n",
    "    pbar = tqdm(total=len(db))\n",
    "    for p in db:\n",
    "        if not p.visited:\n",
    "            N = get_neighbours(db, p, eps)\n",
    "            p.visited = True\n",
    "            ordered_list.append(p)\n",
    "            pbar.update(1)\n",
    "            if core_distance(N, p, eps, min_pts) != None:\n",
    "                S = queue()\n",
    "                update(N, p, S, eps, min_pts)\n",
    "                while not S.empty():\n",
    "                    q = S.get()\n",
    "                    if q.visited: continue\n",
    "                    Ns = get_neighbours(db, q, eps)\n",
    "                    q.visited = True\n",
    "                    ordered_list.append(q)\n",
    "                    pbar.update(1)\n",
    "                    if core_distance(Ns, q, eps, min_pts) != None:\n",
    "                        update(Ns, q, S, eps, min_pts)\n",
    "    return ordered_list            "
   ]
  },
  {
   "cell_type": "code",
   "execution_count": 8,
   "metadata": {},
   "outputs": [],
   "source": [
    "def plot_clusters(db):\n",
    "   # TODO\n",
    "    pass"
   ]
  },
  {
   "cell_type": "code",
   "execution_count": 9,
   "metadata": {},
   "outputs": [
    {
     "data": {
      "application/vnd.jupyter.widget-view+json": {
       "model_id": "f1d8f520146a4979866c810e191b13dc",
       "version_major": 2,
       "version_minor": 0
      },
      "text/plain": [
       "HBox(children=(IntProgress(value=0, max=350), HTML(value='')))"
      ]
     },
     "metadata": {},
     "output_type": "display_data"
    },
    {
     "name": "stdout",
     "output_type": "stream",
     "text": [
      "\n"
     ]
    },
    {
     "data": {
      "image/png": "[encoded data removed]",
      "text/plain": [
       "<Figure size 432x288 with 1 Axes>"
      ]
     },
     "metadata": {
      "needs_background": "light"
     },
     "output_type": "display_data"
    }
   ],
   "source": [
    "df = pd.read_excel('data1.xlsx')\n",
    "db = np.array([Point(p[0], p[1], None) for p in df.values])\n",
    "eps = 5\n",
    "min_pts = 10\n",
    "ordered_list = optics(db, eps, min_pts)\n",
    "xs = [i for i in range(len(ordered_list))]\n",
    "ys = [p.distance for p in ordered_list]\n",
    "plt.plot(xs, ys)\n",
    "plt.show()"
   ]
  },
  {
   "cell_type": "code",
   "execution_count": 10,
   "metadata": {},
   "outputs": [
    {
     "data": {
      "application/vnd.jupyter.widget-view+json": {
       "model_id": "8eedcab09d474e9390d2b5e37bf59ecc",
       "version_major": 2,
       "version_minor": 0
      },
      "text/plain": [
       "HBox(children=(IntProgress(value=0, max=1837), HTML(value='')))"
      ]
     },
     "metadata": {},
     "output_type": "display_data"
    },
    {
     "data": {
      "image/png": "[encoded data removed]",
      "text/plain": [
       "<Figure size 432x288 with 1 Axes>"
      ]
     },
     "metadata": {
      "needs_background": "light"
     },
     "output_type": "display_data"
    }
   ],
   "source": [
    "df = pd.read_excel('data2.xlsx')\n",
    "db = np.array([Point(p[0], p[1], None) for p in df.values])\n",
    "eps = 5\n",
    "min_pts = 10\n",
    "ordered_list = optics(db, eps, min_pts)\n",
    "xs = [i for i in range(len(ordered_list))]\n",
    "ys = [p.distance for p in ordered_list]\n",
    "plt.plot(xs, ys)\n",
    "plt.show()"
   ]
  }
 ],
 "metadata": {
  "kernelspec": {
   "display_name": "Python 3",
   "language": "python",
   "name": "python3"
  },
  "language_info": {
   "codemirror_mode": {
    "name": "ipython",
    "version": 3
   },
   "file_extension": ".py",
   "mimetype": "text/x-python",
   "name": "python",
   "nbconvert_exporter": "python",
   "pygments_lexer": "ipython3",
   "version": "3.6.7"
  }
 },
 "nbformat": 4,
 "nbformat_minor": 2
}
