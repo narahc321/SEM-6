{
 "cells": [
  {
   "cell_type": "code",
   "execution_count": 12,
   "metadata": {},
   "outputs": [],
   "source": [
    "import numpy as np\n",
    "import matplotlib.pyplot as plt\n",
    "import pandas as pd\n",
    "import random\n",
    "from mlxtend.data import loadlocal_mnist\n",
    "from sklearn.decomposition import PCA\n",
    "from sklearn.svm import SVC"
   ]
  },
  {
   "cell_type": "code",
   "execution_count": 13,
   "metadata": {},
   "outputs": [],
   "source": [
    "def Pca(data, components):\n",
    "    data = data.T\n",
    "    mean = np.mean(data, axis = 0)\n",
    "    average_data = (data - mean)\n",
    "    covarience = 1 /  len(average_data) * average_data@average_data.T\n",
    "    eigen_vectors,v,d = np.linalg.svd(covarience)\n",
    "    Keigen_vectors = eigen_vectors[:,:components]\n",
    "    eigen_faces = Keigen_vectors.T@average_data\n",
    "    return eigen_faces.T\n",
    "def Accuracy(actual, predict):\n",
    "    correct = 0\n",
    "    for i in range(len(actual)):\n",
    "        if actual[i] == predict[i]:\n",
    "            correct += 1\n",
    "    return correct / len(actual) * 100"
   ]
  },
  {
   "cell_type": "code",
   "execution_count": 30,
   "metadata": {},
   "outputs": [],
   "source": [
    "data = pd.read_csv('ionosphere.data', header = None)\n",
    "data = np.asarray(data)\n",
    "X, y = data[:,:-1], data[:,-1:].flatten()\n",
    "X = X.astype('float32')\n",
    "# print(X)\n",
    "# print(y)"
   ]
  },
  {
   "cell_type": "code",
   "execution_count": 31,
   "metadata": {},
   "outputs": [],
   "source": [
    "# Reading Data\n",
    "\n",
    "# X, y = loadlocal_mnist(images_path='train-images.idx3-ubyte',labels_path='train-labels.idx1-ubyte')\n",
    "# valid = []\n",
    "# for i, val in enumerate(y):\n",
    "#     if val == 3 or val == 8:\n",
    "#         valid.append(i)\n",
    "dic = {'g':1, 'b':-1}\n",
    "# X,y = X[valid], y[valid]\n",
    "\n",
    "# print(X.shape)\n",
    "y = np.asarray([dic[val] for val in y])\n",
    "# pca = Pca(n_components = 10)\n",
    "# X = pca.fit_transform(X)\n",
    "# X = X / 255\n",
    "# X = Pca(X,components=20)\n",
    "rand_index = np.random.permutation(len(X))\n",
    "X, y = X[rand_index], y[rand_index]\n",
    "# X, y = X[:2000], y[:2000]\n",
    "\n",
    "# 60 - 20 - 20 split into train validation and test sets\n",
    "\n",
    "split1 = 60\n",
    "split2 = 20\n",
    "split_point1 = int(split1 / 100 * len(X))\n",
    "split_point2 = split_point1 + int(split2 / 100 * len(X))\n",
    "X_train, y_train = X[:split_point1,:], y[:split_point1]\n",
    "X_val, y_val = X[split_point1:split_point2,:], y[split_point1:split_point2]\n",
    "X_test, y_test = X[split_point2:,:], y[split_point2:]\n"
   ]
  },
  {
   "cell_type": "code",
   "execution_count": 18,
   "metadata": {},
   "outputs": [],
   "source": [
    "# SVM with SMO\n",
    "\n",
    "def linear_kernel(x1, x2):\n",
    "    return x1@x2.T\n",
    "def polynomial_kernel(x1, x2):\n",
    "    return (x1@x2.T+1)**2\n",
    "def rbf_kernel(x1, x2, sigma = 1):\n",
    "    return np.exp(-np.linalg.norm(x1 - x2) ** 2 / (2 * (sigma ** 2)))\n",
    "\n",
    "def SMO(data, label, C = 1.0, kernel_type = 'linear', rbf_sigma = 1):\n",
    "    samples, features = data.shape\n",
    "    alpha = np.zeros(samples)\n",
    "    if kernel_type == 'linear':\n",
    "        kernel = linear_kernel\n",
    "    if kernel_type == 'polynomial':\n",
    "        kernel = polynomial_kernel\n",
    "    if kernel_type == 'rbf':\n",
    "        kernel = rbf_kernel\n",
    "    current_iteration = 0\n",
    "    W = 0\n",
    "    B = 0\n",
    "    passes = 0\n",
    "    max_passes = 4\n",
    "    tol = 0.0001\n",
    "    while passes < max_passes and current_iteration < 200:\n",
    "        current_iteration += 1\n",
    "        alpha_old = np.copy(alpha)\n",
    "        changes = 0\n",
    "        for i in range(samples):\n",
    "            W = data.T@(alpha_old*label)\n",
    "            Error_i = np.sign(W.T@data[i] + B) - label[i]\n",
    "            if not (((label[i]*Error_i < -tol) and (alpha[i] < C)) or ((label[i]*Error_i > tol))):\n",
    "                continue\n",
    "            j = i\n",
    "            while j == i:\n",
    "                j = random.randint(0, samples-1)\n",
    "            #print(data[i].shape, np.max(data[i]))\n",
    "            eta = 2 * kernel(data[i], data[j]) - kernel(data[i], data[i]) - kernel(data[j], data[j])\n",
    "            #print(eta)\n",
    "            if eta == 0:\n",
    "                continue\n",
    "            if(label[i] != label[j]):\n",
    "                L = max(0, alpha[j] - alpha[i])\n",
    "                H = min(C, C - alpha[i] + alpha[j])\n",
    "            else:\n",
    "                L = max(0, alpha[i] + alpha[j] - C)\n",
    "                H = min(C, alpha[i] + alpha[j])\n",
    "            if L == H:\n",
    "                continue\n",
    "            Error_j = np.sign(W.T@data[j] + B) - label[j]\n",
    "            alpha[j] = alpha_old[j] - label[j] * (Error_i - Error_j)/ eta\n",
    "            if alpha[j] > H:\n",
    "                alpha[j] = H\n",
    "            if alpha[j] < L:\n",
    "                alpha[j] = L\n",
    "            #print(alpha[j], alpha_old[j], eta)\n",
    "            if abs(alpha[j] - alpha_old[j]) < 0.00001:\n",
    "                alpha[j] = alpha_old[j]\n",
    "                continue\n",
    "            alpha[i] = alpha_old[i] + label[i]*label[j] * (alpha_old[j] - alpha[j])\n",
    "            b1 = B - Error_i - label[i]*(alpha[i] - alpha_old[i]) * kernel(data[i], data[i]) - label[j]*(alpha[j] - alpha_old[j]) * kernel(data[i], data[j])\n",
    "            b2 = B - Error_j - label[i]*(alpha[i] - alpha_old[i]) * kernel(data[i], data[j]) - label[j]*(alpha[j] - alpha_old[j]) * kernel(data[j], data[j])\n",
    "            if alpha[i] > 0 and alpha[i] < C:\n",
    "                B = b1\n",
    "            elif alpha[j] > 0 and alpha[j] < C:\n",
    "                B = b2\n",
    "            else:\n",
    "                B = (b1 + b2) / 2\n",
    "            changes += 1\n",
    "        if changes == 0:\n",
    "            passes += 1\n",
    "        else:\n",
    "            passes = 0\n",
    "        diff = np.linalg.norm(alpha - alpha_old)\n",
    "        print('Iteration : ', current_iteration , ', Difference : ' , diff, ', Changes : ', changes)\n",
    "    W = data.T@(alpha * label)\n",
    "    B = np.mean(label - W.T@data.T)\n",
    "    return W, B, current_iteration\n",
    "\n",
    "def predict(data, W, B, threshhold = 0):\n",
    "    if threshhold == 0:\n",
    "        return np.sign(W.T@data.T + B)\n",
    "    result = W.T@data.T + B\n",
    "    ret = []\n",
    "    for val in result:\n",
    "        if val >= threshhold:\n",
    "            ret.append(1)\n",
    "        else:\n",
    "            ret.append(-1)\n",
    "    return np.array(ret)"
   ]
  },
  {
   "cell_type": "code",
   "execution_count": 19,
   "metadata": {},
   "outputs": [
    {
     "name": "stdout",
     "output_type": "stream",
     "text": [
      "Iteration :  1 , Difference :  1.8963999780859062 , Changes :  47\n",
      "Iteration :  2 , Difference :  2.6407597337489253 , Changes :  32\n",
      "Iteration :  3 , Difference :  1.1597399241642878 , Changes :  25\n",
      "Iteration :  4 , Difference :  1.220436944531371 , Changes :  20\n",
      "Iteration :  5 , Difference :  1.230616585143151 , Changes :  17\n",
      "Iteration :  6 , Difference :  1.2553397038249239 , Changes :  15\n",
      "Iteration :  7 , Difference :  1.184382400845913 , Changes :  16\n",
      "Iteration :  8 , Difference :  1.0189260513674914 , Changes :  11\n",
      "Iteration :  9 , Difference :  1.1193257171280797 , Changes :  12\n",
      "Iteration :  10 , Difference :  0.9334956974887594 , Changes :  13\n",
      "Iteration :  11 , Difference :  0.972609742706153 , Changes :  9\n",
      "Iteration :  12 , Difference :  0.6476681120635827 , Changes :  11\n",
      "Iteration :  13 , Difference :  0.5885284756065076 , Changes :  11\n",
      "Iteration :  14 , Difference :  0.6413886596595374 , Changes :  12\n",
      "Iteration :  15 , Difference :  0.6080211547780223 , Changes :  8\n",
      "Iteration :  16 , Difference :  0.4042308530251593 , Changes :  5\n",
      "Iteration :  17 , Difference :  0.49428199609961915 , Changes :  10\n",
      "Iteration :  18 , Difference :  1.4399112320610696 , Changes :  12\n",
      "Iteration :  19 , Difference :  0.9795693608086871 , Changes :  8\n",
      "Iteration :  20 , Difference :  0.6420157757253521 , Changes :  13\n",
      "Iteration :  21 , Difference :  0.6633293578088748 , Changes :  11\n",
      "Iteration :  22 , Difference :  0.7560530463645619 , Changes :  10\n",
      "Iteration :  23 , Difference :  0.865260615688977 , Changes :  5\n",
      "Iteration :  24 , Difference :  0.4956372254340109 , Changes :  6\n",
      "Iteration :  25 , Difference :  0.9279069522757486 , Changes :  6\n",
      "Iteration :  26 , Difference :  0.32850287132003575 , Changes :  5\n",
      "Iteration :  27 , Difference :  0.28383768863005193 , Changes :  2\n",
      "Iteration :  28 , Difference :  0.131228811051408 , Changes :  2\n",
      "Iteration :  29 , Difference :  0.0 , Changes :  0\n",
      "Iteration :  30 , Difference :  0.0 , Changes :  0\n",
      "Iteration :  31 , Difference :  0.0 , Changes :  0\n",
      "Iteration :  32 , Difference :  0.0 , Changes :  0\n"
     ]
    }
   ],
   "source": [
    "# C_vals = np.arange(0.1, 1.1, 0.1)\n",
    "# print(C_vals)\n",
    "# for val in C_vals:\n",
    "W, B, iters = SMO(X_train, y_train, C = 2, kernel_type='linear')\n",
    "#     Y_valid = predict(X_val, W, B)\n",
    "#     print( 'Sigma : ', val, 'Validation Accuracy : ', Accuracy(y_val, Y_valid) ,'%', ', Iterations : ', iters)"
   ]
  },
  {
   "cell_type": "code",
   "execution_count": 20,
   "metadata": {},
   "outputs": [
    {
     "name": "stdout",
     "output_type": "stream",
     "text": [
      "Validation Accuracy :  88.57142857142857 %\n"
     ]
    }
   ],
   "source": [
    "Y_valid = predict(X_val, W, B)\n",
    "print('Validation Accuracy : ', Accuracy(y_val, Y_valid) ,'%')\n"
   ]
  },
  {
   "cell_type": "code",
   "execution_count": 21,
   "metadata": {},
   "outputs": [
    {
     "name": "stdout",
     "output_type": "stream",
     "text": [
      "Test Accuracy :  76.05633802816901 %\n"
     ]
    }
   ],
   "source": [
    "Y_test = predict(X_test, W, B)\n",
    "print('Test Accuracy : ',Accuracy(y_test, Y_test), '%')"
   ]
  },
  {
   "cell_type": "code",
   "execution_count": 22,
   "metadata": {},
   "outputs": [
    {
     "data": {
      "text/plain": [
       "[<matplotlib.lines.Line2D at 0x7f4c9714acc0>]"
      ]
     },
     "execution_count": 22,
     "metadata": {},
     "output_type": "execute_result"
    },
    {
     "data": {
      "image/png": "[encoded data removed]",
      "text/plain": [
       "<Figure size 576x576 with 1 Axes>"
      ]
     },
     "metadata": {
      "needs_background": "light"
     },
     "output_type": "display_data"
    }
   ],
   "source": [
    "# ROC curve\n",
    "def GetTPRandFPR(predicted, actual):\n",
    "    confusion_matrix = np.zeros((2,2))\n",
    "    for i in range(len(predicted)):\n",
    "        if(actual[i] == -1):\n",
    "            if predicted[i] == -1:\n",
    "                confusion_matrix[0][0] += 1\n",
    "            if predicted[i] == 1:\n",
    "                confusion_matrix[0][1] += 1\n",
    "        else:\n",
    "            if predicted[i] == -1:\n",
    "                confusion_matrix[1][0] += 1\n",
    "            if predicted[i] == 1:\n",
    "                confusion_matrix[1][1] += 1\n",
    "#     print(confusion_matrix)\n",
    "    TPR = confusion_matrix[1][1] / (confusion_matrix[1][1] + confusion_matrix[1][0])\n",
    "    FPR = confusion_matrix[0][1] / (confusion_matrix[0][1] + confusion_matrix[0][0])\n",
    "    return TPR, FPR\n",
    "\n",
    "threshholds = np.arange(-500, 500, 1)\n",
    "X_plot = []\n",
    "Y_plot = []\n",
    "# GetTPRandFPR(predict(X_test, W, B, 0),y_test)\n",
    "for val in threshholds:\n",
    "    TPR, FPR = GetTPRandFPR(predict(X_test, W, B, val),y_test)\n",
    "    X_plot.append(FPR)\n",
    "    Y_plot.append(TPR)\n",
    "\n",
    "plt.figure(figsize=(8,8))\n",
    "plt.title('ROC curve')\n",
    "plt.xlabel('False Positive Rate')\n",
    "plt.ylabel('True Positive Rate')\n",
    "plt.plot(X_plot,Y_plot)"
   ]
  }
 ],
 "metadata": {
  "kernelspec": {
   "display_name": "Python 3",
   "language": "python",
   "name": "python3"
  },
  "language_info": {
   "codemirror_mode": {
    "name": "ipython",
    "version": 3
   },
   "file_extension": ".py",
   "mimetype": "text/x-python",
   "name": "python",
   "nbconvert_exporter": "python",
   "pygments_lexer": "ipython3",
   "version": "3.6.5"
  }
 },
 "nbformat": 4,
 "nbformat_minor": 2
}
